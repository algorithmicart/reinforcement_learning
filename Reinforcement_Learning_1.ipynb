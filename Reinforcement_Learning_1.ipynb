{
 "cells": [
  {
   "cell_type": "code",
   "execution_count": 1,
   "metadata": {},
   "outputs": [],
   "source": [
    "# simple reinformcent learning example\n",
    "# 1-dimensional maze\n",
    "\n",
    "# accompanies blog writing up algorithmic art meetup on reinforcement learning\n",
    "# https://www.meetup.com/Algorithmic-Art/events/261462857/"
   ]
  },
  {
   "cell_type": "code",
   "execution_count": 2,
   "metadata": {},
   "outputs": [],
   "source": [
    "import numpy\n",
    "import pandas\n",
    "import random"
   ]
  },
  {
   "cell_type": "code",
   "execution_count": 3,
   "metadata": {},
   "outputs": [
    {
     "data": {
      "text/html": [
       "<div>\n",
       "<style scoped>\n",
       "    .dataframe tbody tr th:only-of-type {\n",
       "        vertical-align: middle;\n",
       "    }\n",
       "\n",
       "    .dataframe tbody tr th {\n",
       "        vertical-align: top;\n",
       "    }\n",
       "\n",
       "    .dataframe thead th {\n",
       "        text-align: right;\n",
       "    }\n",
       "</style>\n",
       "<table border=\"1\" class=\"dataframe\">\n",
       "  <thead>\n",
       "    <tr style=\"text-align: right;\">\n",
       "      <th></th>\n",
       "      <th>0</th>\n",
       "      <th>1</th>\n",
       "      <th>2</th>\n",
       "      <th>3</th>\n",
       "      <th>4</th>\n",
       "      <th>5</th>\n",
       "    </tr>\n",
       "  </thead>\n",
       "  <tbody>\n",
       "    <tr>\n",
       "      <th>-1</th>\n",
       "      <td>0.0</td>\n",
       "      <td>0.0</td>\n",
       "      <td>0.0</td>\n",
       "      <td>0.0</td>\n",
       "      <td>0.0</td>\n",
       "      <td>0.0</td>\n",
       "    </tr>\n",
       "    <tr>\n",
       "      <th>1</th>\n",
       "      <td>0.0</td>\n",
       "      <td>0.0</td>\n",
       "      <td>0.0</td>\n",
       "      <td>0.0</td>\n",
       "      <td>0.0</td>\n",
       "      <td>0.0</td>\n",
       "    </tr>\n",
       "  </tbody>\n",
       "</table>\n",
       "</div>"
      ],
      "text/plain": [
       "      0    1    2    3    4    5\n",
       "-1  0.0  0.0  0.0  0.0  0.0  0.0\n",
       " 1  0.0  0.0  0.0  0.0  0.0  0.0"
      ]
     },
     "execution_count": 3,
     "metadata": {},
     "output_type": "execute_result"
    }
   ],
   "source": [
    "# Q state-action table, initialised with zeros\n",
    "Q = pandas.DataFrame(numpy.zeros((2,6)), index=[-1, 1])\n",
    "\n",
    "# print initial Q (state, action) table\n",
    "Q"
   ]
  },
  {
   "cell_type": "code",
   "execution_count": 4,
   "metadata": {},
   "outputs": [
    {
     "name": "stdout",
     "output_type": "stream",
     "text": [
      "xpos =  3\n",
      "      0    1    2    3    4    5\n",
      "-1  0.0  0.0  0.0  0.0  0.0  0.0\n",
      " 1  0.0  0.0  0.0  0.0  0.0  0.0\n",
      "\n",
      "xpos =  4\n",
      "      0    1    2    3    4    5\n",
      "-1  0.0  0.0  0.0  0.0  0.0  0.0\n",
      " 1  0.0  0.0  0.0  0.0  1.0  0.0\n",
      "\n",
      "xpos =  4\n",
      "      0    1    2    3    4    5\n",
      "-1  0.0  0.0  0.0  0.0  0.0  0.0\n",
      " 1  0.0  0.0  0.0  0.0  1.0  0.0\n",
      "\n",
      "xpos =  4\n",
      "      0    1    2    3    4    5\n",
      "-1  0.0  0.0  0.0  0.0  0.0  0.0\n",
      " 1  0.0  0.0  0.0  0.0  1.0  0.0\n",
      "\n",
      "xpos =  4\n",
      "      0    1    2    3    4    5\n",
      "-1  0.0  0.0  0.0  0.0  0.0  0.0\n",
      " 1  0.0  0.0  0.0  0.0  1.0  0.0\n",
      "\n",
      "xpos =  3\n",
      "      0    1    2    3    4    5\n",
      "-1  0.0  0.0  0.0  0.0  0.0  0.0\n",
      " 1  0.0  0.0  0.0  0.9  1.0  0.0\n",
      "\n",
      "xpos =  4\n",
      "      0    1    2    3     4    5\n",
      "-1  0.0  0.0  0.0  0.0  0.81  0.0\n",
      " 1  0.0  0.0  0.0  0.9  1.00  0.0\n",
      "\n",
      "xpos =  3\n",
      "      0    1    2    3     4    5\n",
      "-1  0.0  0.0  0.0  0.0  0.81  0.0\n",
      " 1  0.0  0.0  0.0  0.9  1.00  0.0\n",
      "\n",
      "xpos =  2\n",
      "      0    1     2    3     4    5\n",
      "-1  0.0  0.0  0.00  0.0  0.81  0.0\n",
      " 1  0.0  0.0  0.81  0.9  1.00  0.0\n",
      "\n",
      "xpos =  3\n",
      "      0    1     2      3     4    5\n",
      "-1  0.0  0.0  0.00  0.729  0.81  0.0\n",
      " 1  0.0  0.0  0.81  0.900  1.00  0.0\n",
      "\n",
      "xpos =  2\n",
      "      0    1     2      3     4    5\n",
      "-1  0.0  0.0  0.00  0.729  0.81  0.0\n",
      " 1  0.0  0.0  0.81  0.900  1.00  0.0\n",
      "\n",
      "xpos =  1\n",
      "      0      1     2      3     4    5\n",
      "-1  0.0  0.000  0.00  0.729  0.81  0.0\n",
      " 1  0.0  0.729  0.81  0.900  1.00  0.0\n",
      "\n",
      "xpos =  2\n",
      "      0      1       2      3     4    5\n",
      "-1  0.0  0.000  0.6561  0.729  0.81  0.0\n",
      " 1  0.0  0.729  0.8100  0.900  1.00  0.0\n",
      "\n",
      "xpos =  1\n",
      "      0      1       2      3     4    5\n",
      "-1  0.0  0.000  0.6561  0.729  0.81  0.0\n",
      " 1  0.0  0.729  0.8100  0.900  1.00  0.0\n",
      "\n",
      "xpos =  2\n",
      "      0      1       2      3     4    5\n",
      "-1  0.0  0.000  0.6561  0.729  0.81  0.0\n",
      " 1  0.0  0.729  0.8100  0.900  1.00  0.0\n",
      "\n",
      "xpos =  3\n",
      "      0      1       2      3     4    5\n",
      "-1  0.0  0.000  0.6561  0.729  0.81  0.0\n",
      " 1  0.0  0.729  0.8100  0.900  1.00  0.0\n",
      "\n",
      "xpos =  2\n",
      "      0      1       2      3     4    5\n",
      "-1  0.0  0.000  0.6561  0.729  0.81  0.0\n",
      " 1  0.0  0.729  0.8100  0.900  1.00  0.0\n",
      "\n",
      "xpos =  3\n",
      "      0      1       2      3     4    5\n",
      "-1  0.0  0.000  0.6561  0.729  0.81  0.0\n",
      " 1  0.0  0.729  0.8100  0.900  1.00  0.0\n",
      "\n",
      "xpos =  4\n",
      "      0      1       2      3     4    5\n",
      "-1  0.0  0.000  0.6561  0.729  0.81  0.0\n",
      " 1  0.0  0.729  0.8100  0.900  1.00  0.0\n",
      "\n",
      "xpos =  3\n",
      "      0      1       2      3     4    5\n",
      "-1  0.0  0.000  0.6561  0.729  0.81  0.0\n",
      " 1  0.0  0.729  0.8100  0.900  1.00  0.0\n",
      "\n"
     ]
    }
   ],
   "source": [
    "# run several iterations to iteratively estimate Q-values\n",
    "\n",
    "# number of iterations (actions)\n",
    "iterations = 20\n",
    "\n",
    "# initial position\n",
    "xpos = 3\n",
    "\n",
    "for i in range(iterations):\n",
    "    print(\"xpos = \",xpos)\n",
    "    \n",
    "    # consider all actions\n",
    "    for action in [-1,1]:\n",
    "        xpos2 = xpos+action\n",
    "        # if xpos2 is outside maze, continue\n",
    "        if ((xpos2 < 0) or (xpos2 > 5)):\n",
    "            continue\n",
    "        \n",
    "        # reward is at position 5\n",
    "        reward = 0\n",
    "        if (xpos2 == 5):\n",
    "            reward = 1\n",
    "            pass\n",
    "        \n",
    "        # max Q from next state\n",
    "        maxQ2 = max(Q[xpos2])\n",
    "        \n",
    "        # update Q-table\n",
    "        Q.loc[action,xpos] = reward + 0.9 * maxQ2\n",
    "        \n",
    "        pass\n",
    "    \n",
    "    # set new position position according to random walk policy\n",
    "    xpos_new = xpos + random.choice([-1, 1])\n",
    "    # check new position doesn't fall outside maze bounds\n",
    "    xpos_new = numpy.clip(xpos_new, 0, 5)\n",
    "    # also check it doesn't hit goals or barriers\n",
    "    if xpos_new in [5]:\n",
    "        xpos_new = xpos\n",
    "        pass\n",
    "    # update position\n",
    "    xpos = xpos_new\n",
    "    \n",
    "    print(Q)\n",
    "    print(\"\")\n",
    "    \n",
    "    pass\n"
   ]
  },
  {
   "cell_type": "code",
   "execution_count": 5,
   "metadata": {},
   "outputs": [
    {
     "data": {
      "text/html": [
       "<div>\n",
       "<style scoped>\n",
       "    .dataframe tbody tr th:only-of-type {\n",
       "        vertical-align: middle;\n",
       "    }\n",
       "\n",
       "    .dataframe tbody tr th {\n",
       "        vertical-align: top;\n",
       "    }\n",
       "\n",
       "    .dataframe thead th {\n",
       "        text-align: right;\n",
       "    }\n",
       "</style>\n",
       "<table border=\"1\" class=\"dataframe\">\n",
       "  <thead>\n",
       "    <tr style=\"text-align: right;\">\n",
       "      <th></th>\n",
       "      <th>0</th>\n",
       "      <th>1</th>\n",
       "      <th>2</th>\n",
       "      <th>3</th>\n",
       "      <th>4</th>\n",
       "      <th>5</th>\n",
       "    </tr>\n",
       "  </thead>\n",
       "  <tbody>\n",
       "    <tr>\n",
       "      <th>-1</th>\n",
       "      <td>0.0</td>\n",
       "      <td>0.000</td>\n",
       "      <td>0.6561</td>\n",
       "      <td>0.729</td>\n",
       "      <td>0.81</td>\n",
       "      <td>0.0</td>\n",
       "    </tr>\n",
       "    <tr>\n",
       "      <th>1</th>\n",
       "      <td>0.0</td>\n",
       "      <td>0.729</td>\n",
       "      <td>0.8100</td>\n",
       "      <td>0.900</td>\n",
       "      <td>1.00</td>\n",
       "      <td>0.0</td>\n",
       "    </tr>\n",
       "  </tbody>\n",
       "</table>\n",
       "</div>"
      ],
      "text/plain": [
       "      0      1       2      3     4    5\n",
       "-1  0.0  0.000  0.6561  0.729  0.81  0.0\n",
       " 1  0.0  0.729  0.8100  0.900  1.00  0.0"
      ]
     },
     "execution_count": 5,
     "metadata": {},
     "output_type": "execute_result"
    }
   ],
   "source": [
    "# print state table\n",
    "\n",
    "Q"
   ]
  },
  {
   "cell_type": "code",
   "execution_count": 6,
   "metadata": {},
   "outputs": [],
   "source": [
    "# visualise the Q-value table\n",
    "\n",
    "import seaborn as sns"
   ]
  },
  {
   "cell_type": "code",
   "execution_count": 7,
   "metadata": {},
   "outputs": [
    {
     "data": {
      "text/plain": [
       "<matplotlib.axes._subplots.AxesSubplot at 0x1a2311e780>"
      ]
     },
     "execution_count": 7,
     "metadata": {},
     "output_type": "execute_result"
    },
    {
     "data": {
      "image/png": "[encoded data removed]",
      "text/plain": [
       "<Figure size 432x288 with 2 Axes>"
      ]
     },
     "metadata": {
      "needs_background": "light"
     },
     "output_type": "display_data"
    }
   ],
   "source": [
    "sns.heatmap(Q, cmap='coolwarm', annot=True)"
   ]
  },
  {
   "cell_type": "code",
   "execution_count": null,
   "metadata": {},
   "outputs": [],
   "source": []
  }
 ],
 "metadata": {
  "kernelspec": {
   "display_name": "Python 3",
   "language": "python",
   "name": "python3"
  },
  "language_info": {
   "codemirror_mode": {
    "name": "ipython",
    "version": 3
   },
   "file_extension": ".py",
   "mimetype": "text/x-python",
   "name": "python",
   "nbconvert_exporter": "python",
   "pygments_lexer": "ipython3",
   "version": "3.7.3"
  }
 },
 "nbformat": 4,
 "nbformat_minor": 2
}
